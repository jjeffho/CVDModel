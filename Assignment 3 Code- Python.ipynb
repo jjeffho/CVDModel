{
 "cells": [
  {
   "cell_type": "code",
   "execution_count": 1,
   "metadata": {},
   "outputs": [],
   "source": [
    "#Important packages\n",
    "import numpy as np\n",
    "import pandas as pd\n",
    "import pandasql as pdsql\n",
    "import seaborn as sns\n",
    "import matplotlib.pyplot as plt"
   ]
  },
  {
   "cell_type": "code",
   "execution_count": 2,
   "metadata": {},
   "outputs": [],
   "source": [
    "#Import data\n",
    "data=pd.read_excel(r'C:\\Users\\user\\Desktop\\GB Data Science\\Data Science Applied Project\\Project\\data_aft_impNcleanup.xlsx')"
   ]
  },
  {
   "cell_type": "code",
   "execution_count": 3,
   "metadata": {},
   "outputs": [
    {
     "data": {
      "text/plain": [
       "age              int64\n",
       "sex              int64\n",
       "cp               int64\n",
       "trestbps         int64\n",
       "chol             int64\n",
       "fbs              int64\n",
       "rest_ecg         int64\n",
       "max_h_rate       int64\n",
       "ex_ang           int64\n",
       "oldpeak        float64\n",
       "slope            int64\n",
       "heart_d_new      int64\n",
       "dtype: object"
      ]
     },
     "execution_count": 3,
     "metadata": {},
     "output_type": "execute_result"
    }
   ],
   "source": [
    "#Checking data types\n",
    "data.dtypes"
   ]
  },
  {
   "cell_type": "code",
   "execution_count": 4,
   "metadata": {},
   "outputs": [
    {
     "data": {
      "text/plain": [
       "0    374\n",
       "1    322\n",
       "Name: heart_d_new, dtype: int64"
      ]
     },
     "execution_count": 4,
     "metadata": {},
     "output_type": "execute_result"
    }
   ],
   "source": [
    "#Checking if there is imbalance on the response variable\n",
    "data['heart_d_new'].value_counts()"
   ]
  },
  {
   "cell_type": "code",
   "execution_count": 5,
   "metadata": {},
   "outputs": [],
   "source": [
    "#Add features on the dataset with numeric values (Normal=0 ; Elevated= 1; High=2)\n",
    "data.loc[data['trestbps']<=120,'Blood P Category']=0\n",
    "data.loc[(data['trestbps']>120)&(data['trestbps']<=129),'Blood P Category']=1\n",
    "data.loc[data['trestbps']>=130,'Blood P Category']=2"
   ]
  },
  {
   "cell_type": "code",
   "execution_count": 6,
   "metadata": {},
   "outputs": [
    {
     "data": {
      "text/plain": [
       "array([2., 0., 1.])"
      ]
     },
     "execution_count": 6,
     "metadata": {},
     "output_type": "execute_result"
    }
   ],
   "source": [
    "data['Blood P Category'].unique()"
   ]
  },
  {
   "cell_type": "code",
   "execution_count": 7,
   "metadata": {},
   "outputs": [],
   "source": [
    "#Cholesterol category (Normal=0 ; Elevated=1 ; High=2)\n",
    "data.loc[(data['chol']<=200),'Cholesterol Category']=0\n",
    "data.loc[(data['chol']>200)&(data['chol']<=239),'Cholesterol Category']=1\n",
    "data.loc[(data['chol']>239),'Cholesterol Category']=2"
   ]
  },
  {
   "cell_type": "code",
   "execution_count": 8,
   "metadata": {},
   "outputs": [
    {
     "data": {
      "text/plain": [
       "array([0., 2., 1.])"
      ]
     },
     "execution_count": 8,
     "metadata": {},
     "output_type": "execute_result"
    }
   ],
   "source": [
    "data['Cholesterol Category'].unique()"
   ]
  },
  {
   "cell_type": "code",
   "execution_count": 9,
   "metadata": {},
   "outputs": [],
   "source": [
    "#Set up heart rate category (Normal=0 ; High=1)\n",
    "data.loc[(data['age']>20) & (data['age']<=29) & (data['max_h_rate']<=200),'Heart Rate Category']=0\n",
    "data.loc[(data['age']>20) & (data['age']<=29) & (data['max_h_rate']>200),'Heart Rate Category']=1\n",
    "data.loc[(data['age']>=30) & (data['age']<=34) & (data['max_h_rate']<=190),'Heart Rate Category']=0\n",
    "data.loc[(data['age']>=30) & (data['age']<=34) & (data['max_h_rate']>190),'Heart Rate Category']=1\n",
    "data.loc[(data['age']>=35) & (data['age']<=39) & (data['max_h_rate']<=185),'Heart Rate Category']=0\n",
    "data.loc[(data['age']>=35) & (data['age']<=39) & (data['max_h_rate']>185),'Heart Rate Category']=1\n",
    "data.loc[(data['age']>=40) & (data['age']<=44) & (data['max_h_rate']<=180),'Heart Rate Category']=0\n",
    "data.loc[(data['age']>=40) & (data['age']<=44) & (data['max_h_rate']>180),'Heart Rate Category']=1\n",
    "data.loc[(data['age']>=45) & (data['age']<=49) & (data['max_h_rate']<=175),'Heart Rate Category']=0\n",
    "data.loc[(data['age']>=45) & (data['age']<=49) & (data['max_h_rate']>175),'Heart Rate Category']=1\n",
    "data.loc[(data['age']>=50) & (data['age']<=59) & (data['max_h_rate']<=170),'Heart Rate Category']=0\n",
    "data.loc[(data['age']>=50) & (data['age']<=59) & (data['max_h_rate']>170),'Heart Rate Category']=1\n",
    "data.loc[(data['age']>=60)  & (data['max_h_rate']<=160),'Heart Rate Category']=0\n",
    "data.loc[(data['age']>=60)  & (data['max_h_rate']>160),'Heart Rate Category']=1"
   ]
  },
  {
   "cell_type": "code",
   "execution_count": 10,
   "metadata": {},
   "outputs": [
    {
     "data": {
      "text/plain": [
       "array([0., 1.])"
      ]
     },
     "execution_count": 10,
     "metadata": {},
     "output_type": "execute_result"
    }
   ],
   "source": [
    "data['Heart Rate Category'].unique()"
   ]
  },
  {
   "cell_type": "code",
   "execution_count": 11,
   "metadata": {},
   "outputs": [],
   "source": [
    "#Create ST depression category (Normal=0 ; High=1)"
   ]
  },
  {
   "cell_type": "code",
   "execution_count": 12,
   "metadata": {},
   "outputs": [],
   "source": [
    "data.loc[(data['oldpeak']<=1),'ST Depression Category']=0\n",
    "data.loc[(data['oldpeak']>1),'ST Depression Category']=1"
   ]
  },
  {
   "cell_type": "code",
   "execution_count": 13,
   "metadata": {},
   "outputs": [],
   "source": [
    "#Create age category (<35=0 ; 35-44=1 ; 45-54=2 ; 55-64=3 ; >=65=4)"
   ]
  },
  {
   "cell_type": "code",
   "execution_count": 14,
   "metadata": {},
   "outputs": [],
   "source": [
    "data.loc[data['age']<=34,'Age Category']=0\n",
    "data.loc[(data['age']>=35) &(data['age']<45),'Age Category']=1\n",
    "data.loc[(data['age']>=45) &(data['age']<55),'Age Category']=2\n",
    "data.loc[(data['age']>=55) &(data['age']<65),'Age Category']=3\n",
    "data.loc[data['age']>=65,'Age Category']=4"
   ]
  },
  {
   "cell_type": "code",
   "execution_count": 15,
   "metadata": {},
   "outputs": [
    {
     "data": {
      "text/plain": [
       "array([0., 1., 2., 3., 4.])"
      ]
     },
     "execution_count": 15,
     "metadata": {},
     "output_type": "execute_result"
    }
   ],
   "source": [
    "data['Age Category'].unique()"
   ]
  },
  {
   "cell_type": "code",
   "execution_count": 16,
   "metadata": {},
   "outputs": [
    {
     "data": {
      "text/plain": [
       "age                         int64\n",
       "sex                         int64\n",
       "cp                          int64\n",
       "trestbps                    int64\n",
       "chol                        int64\n",
       "fbs                         int64\n",
       "rest_ecg                    int64\n",
       "max_h_rate                  int64\n",
       "ex_ang                      int64\n",
       "oldpeak                   float64\n",
       "slope                       int64\n",
       "heart_d_new                 int64\n",
       "Blood P Category          float64\n",
       "Cholesterol Category      float64\n",
       "Heart Rate Category       float64\n",
       "ST Depression Category    float64\n",
       "Age Category              float64\n",
       "dtype: object"
      ]
     },
     "execution_count": 16,
     "metadata": {},
     "output_type": "execute_result"
    }
   ],
   "source": [
    "#Checking data types\n",
    "data.dtypes"
   ]
  },
  {
   "cell_type": "code",
   "execution_count": 17,
   "metadata": {},
   "outputs": [],
   "source": [
    "# Based on the Var Imp Plot in R, we will create a dataset by including variables withon IncreaseMSE equals or greater than 10\n",
    "data2= data[['cp','oldpeak','slope','ex_ang','sex','max_h_rate','ST Depression Category','age','trestbps','heart_d_new']]"
   ]
  },
  {
   "cell_type": "code",
   "execution_count": 18,
   "metadata": {},
   "outputs": [],
   "source": [
    "#Split up independent and dependent variables"
   ]
  },
  {
   "cell_type": "code",
   "execution_count": 19,
   "metadata": {},
   "outputs": [],
   "source": [
    "x=data2[['cp','oldpeak','slope','ex_ang','sex','max_h_rate','ST Depression Category','age','trestbps']]\n",
    "y=data2['heart_d_new']"
   ]
  },
  {
   "cell_type": "code",
   "execution_count": 20,
   "metadata": {},
   "outputs": [],
   "source": [
    "#Split the dataset into training and testing data"
   ]
  },
  {
   "cell_type": "code",
   "execution_count": 21,
   "metadata": {},
   "outputs": [],
   "source": [
    "from sklearn.model_selection import train_test_split\n",
    "x_train, x_test, y_train, y_test = train_test_split(x, y, test_size=0.3, random_state=40)"
   ]
  },
  {
   "cell_type": "markdown",
   "metadata": {},
   "source": [
    "# Create a Logistic Regression Model"
   ]
  },
  {
   "cell_type": "code",
   "execution_count": 22,
   "metadata": {},
   "outputs": [
    {
     "name": "stderr",
     "output_type": "stream",
     "text": [
      "C:\\Users\\user\\Anaconda3\\lib\\site-packages\\sklearn\\linear_model\\logistic.py:433: FutureWarning: Default solver will be changed to 'lbfgs' in 0.22. Specify a solver to silence this warning.\n",
      "  FutureWarning)\n"
     ]
    },
    {
     "data": {
      "text/plain": [
       "LogisticRegression(C=1.0, class_weight=None, dual=False, fit_intercept=True,\n",
       "          intercept_scaling=1, max_iter=100, multi_class='warn',\n",
       "          n_jobs=None, penalty='l2', random_state=None, solver='warn',\n",
       "          tol=0.0001, verbose=0, warm_start=False)"
      ]
     },
     "execution_count": 22,
     "metadata": {},
     "output_type": "execute_result"
    }
   ],
   "source": [
    "from sklearn.linear_model import LogisticRegression\n",
    "LR = LogisticRegression()\n",
    "LR.fit(x_train,y_train)"
   ]
  },
  {
   "cell_type": "code",
   "execution_count": 23,
   "metadata": {},
   "outputs": [],
   "source": [
    "#Create prediction\n",
    "predict_logreg = LR.predict(x_test)"
   ]
  },
  {
   "cell_type": "code",
   "execution_count": 24,
   "metadata": {},
   "outputs": [],
   "source": [
    "#Calculate evaluation metrics\n",
    "from sklearn.metrics import auc, roc_auc_score, roc_curve"
   ]
  },
  {
   "cell_type": "code",
   "execution_count": 25,
   "metadata": {},
   "outputs": [
    {
     "name": "stdout",
     "output_type": "stream",
     "text": [
      "The AUC is 0.7991935483870968\n"
     ]
    }
   ],
   "source": [
    "print ('The AUC is ' + str(roc_auc_score(y_test,predict_logreg)))"
   ]
  },
  {
   "cell_type": "code",
   "execution_count": 26,
   "metadata": {},
   "outputs": [],
   "source": [
    "#Calculate False Postive Rate and True Positive Rate for ROC curve\n",
    "false_positive_rate_logreg, true_positive_rate_logreg, thresholds = roc_curve(y_test, predict_logreg)"
   ]
  },
  {
   "cell_type": "code",
   "execution_count": 27,
   "metadata": {},
   "outputs": [],
   "source": [
    "#Create a Confusion Matrix to visulize True Positive Rate and False Positive Rate"
   ]
  },
  {
   "cell_type": "code",
   "execution_count": 28,
   "metadata": {},
   "outputs": [],
   "source": [
    "from sklearn.metrics import confusion_matrix"
   ]
  },
  {
   "cell_type": "code",
   "execution_count": 29,
   "metadata": {},
   "outputs": [],
   "source": [
    "cm_logreg= confusion_matrix(y_test,predict_logreg)"
   ]
  },
  {
   "cell_type": "code",
   "execution_count": 30,
   "metadata": {},
   "outputs": [
    {
     "data": {
      "text/plain": [
       "array([[99, 25],\n",
       "       [17, 68]], dtype=int64)"
      ]
     },
     "execution_count": 30,
     "metadata": {},
     "output_type": "execute_result"
    }
   ],
   "source": [
    "#Show confuson matrix\n",
    "cm_logreg"
   ]
  },
  {
   "cell_type": "code",
   "execution_count": 31,
   "metadata": {},
   "outputs": [
    {
     "data": {
      "image/png": "[encoded data removed]",
      "text/plain": [
       "<Figure size 432x288 with 2 Axes>"
      ]
     },
     "metadata": {
      "needs_background": "light"
     },
     "output_type": "display_data"
    }
   ],
   "source": [
    "#Plot the confusion matrix\n",
    "sns.heatmap( cm_logreg, cmap='Blues', annot=True)\n",
    "plt.title('Logistic Regression Confusion Matrix')\n",
    "plt.xlabel(\"True Labels\")\n",
    "plt.ylabel(\"Predicted Labels\")\n",
    "plt.show()"
   ]
  },
  {
   "cell_type": "markdown",
   "metadata": {},
   "source": [
    "# Create Decision Tree Model"
   ]
  },
  {
   "cell_type": "code",
   "execution_count": 32,
   "metadata": {},
   "outputs": [
    {
     "data": {
      "text/plain": [
       "DecisionTreeClassifier(class_weight=None, criterion='gini', max_depth=None,\n",
       "            max_features=None, max_leaf_nodes=None,\n",
       "            min_impurity_decrease=0.0, min_impurity_split=None,\n",
       "            min_samples_leaf=1, min_samples_split=2,\n",
       "            min_weight_fraction_leaf=0.0, presort=False, random_state=None,\n",
       "            splitter='best')"
      ]
     },
     "execution_count": 32,
     "metadata": {},
     "output_type": "execute_result"
    }
   ],
   "source": [
    "from sklearn.tree import DecisionTreeClassifier\n",
    "dtree= DecisionTreeClassifier()\n",
    "dtree.fit(x_train,y_train)"
   ]
  },
  {
   "cell_type": "code",
   "execution_count": 33,
   "metadata": {},
   "outputs": [],
   "source": [
    "#Create prediction\n",
    "predict_dtree = dtree.predict(x_test)"
   ]
  },
  {
   "cell_type": "code",
   "execution_count": 34,
   "metadata": {},
   "outputs": [
    {
     "name": "stdout",
     "output_type": "stream",
     "text": [
      "The AUC is 0.7518026565464896\n"
     ]
    }
   ],
   "source": [
    "#Calculate evaluation metrics\n",
    "print ('The AUC is ' + str(roc_auc_score(y_test,predict_dtree)))"
   ]
  },
  {
   "cell_type": "code",
   "execution_count": 35,
   "metadata": {},
   "outputs": [],
   "source": [
    "#Calculate False Postive Rate and True Positive Rate for ROC curve\n",
    "false_positive_rate_dtree, true_positive_rate_dtree, thresholds_dtree = roc_curve(y_test, predict_dtree)"
   ]
  },
  {
   "cell_type": "code",
   "execution_count": 36,
   "metadata": {},
   "outputs": [],
   "source": [
    "#Create a Confusion Matrix to visulize True Positive Rate and False Positive Rate"
   ]
  },
  {
   "cell_type": "code",
   "execution_count": 37,
   "metadata": {},
   "outputs": [],
   "source": [
    "cm_dtree= confusion_matrix(y_test,predict_dtree)"
   ]
  },
  {
   "cell_type": "code",
   "execution_count": 38,
   "metadata": {},
   "outputs": [
    {
     "data": {
      "text/plain": [
       "array([[96, 28],\n",
       "       [23, 62]], dtype=int64)"
      ]
     },
     "execution_count": 38,
     "metadata": {},
     "output_type": "execute_result"
    }
   ],
   "source": [
    "#Show confuson matrix\n",
    "cm_dtree"
   ]
  },
  {
   "cell_type": "code",
   "execution_count": 39,
   "metadata": {},
   "outputs": [
    {
     "data": {
      "image/png": "[encoded data removed]",
      "text/plain": [
       "<Figure size 432x288 with 2 Axes>"
      ]
     },
     "metadata": {
      "needs_background": "light"
     },
     "output_type": "display_data"
    }
   ],
   "source": [
    "#Plot the confusion matrix\n",
    "sns.heatmap(cm_dtree, cmap='Greens', annot=True)\n",
    "plt.title('Decision Tree Confusion Matrix')\n",
    "plt.xlabel(\"True Labels\")\n",
    "plt.ylabel(\"Predicted Labels\")\n",
    "plt.show()"
   ]
  },
  {
   "cell_type": "code",
   "execution_count": 40,
   "metadata": {},
   "outputs": [
    {
     "data": {
      "image/png": "[encoded data removed]",
      "text/plain": [
       "<Figure size 432x288 with 1 Axes>"
      ]
     },
     "metadata": {
      "needs_background": "light"
     },
     "output_type": "display_data"
    }
   ],
   "source": [
    "#Create a ROC\n",
    "plt.plot(false_positive_rate_logreg, true_positive_rate_logreg, marker='.', label='Logistric Regression')\n",
    "plt.plot(false_positive_rate_dtree, true_positive_rate_dtree, marker='.', label='Decision Tree')\n",
    "\n",
    "plt.title('ROC Plot')\n",
    "plt.xlabel('False Positive Rate')\n",
    "plt.ylabel('True Positive Rate')\n",
    "plt.legend()\n",
    "plt.show()"
   ]
  }
 ],
 "metadata": {
  "kernelspec": {
   "display_name": "Python 3",
   "language": "python",
   "name": "python3"
  },
  "language_info": {
   "codemirror_mode": {
    "name": "ipython",
    "version": 3
   },
   "file_extension": ".py",
   "mimetype": "text/x-python",
   "name": "python",
   "nbconvert_exporter": "python",
   "pygments_lexer": "ipython3",
   "version": "3.7.3"
  }
 },
 "nbformat": 4,
 "nbformat_minor": 2
}
